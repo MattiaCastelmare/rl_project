{
  "cells": [
    {
      "cell_type": "code",
      "execution_count": 1,
      "metadata": {
        "colab": {
          "base_uri": "https://localhost:8080/"
        },
        "id": "Cew5ArbYVDeK",
        "outputId": "aeb45c74-f44d-4e81-b07b-45f677c7a8c3"
      },
      "outputs": [
        {
          "output_type": "stream",
          "name": "stdout",
          "text": [
            "Mounted at /content/drive/\n"
          ]
        }
      ],
      "source": [
        "from google.colab import drive\n",
        "\n",
        "drive.mount(\"/content/drive/\")"
      ]
    },
    {
      "cell_type": "code",
      "source": [
        "%cd /content/drive/MyDrive/RL_project"
      ],
      "metadata": {
        "colab": {
          "base_uri": "https://localhost:8080/"
        },
        "id": "kkB4jAfNY4TI",
        "outputId": "82926b2c-f27a-44d9-e5fd-4130a0aa3443"
      },
      "execution_count": 2,
      "outputs": [
        {
          "output_type": "stream",
          "name": "stdout",
          "text": [
            "/content/drive/MyDrive/RL_project\n"
          ]
        }
      ]
    },
    {
      "cell_type": "code",
      "source": [
        "#@title Install dependencies\n",
        "!pip install dm_control --quiet\n",
        "!pip install imageio_ffmpeg --quiet\n",
        "\n",
        "%env MUJOCO_GL=egl"
      ],
      "metadata": {
        "colab": {
          "base_uri": "https://localhost:8080/"
        },
        "collapsed": true,
        "id": "5XewDPrFvbi6",
        "outputId": "01ff54ba-977c-41e1-f2ce-8e55ee1257b4"
      },
      "execution_count": 8,
      "outputs": [
        {
          "output_type": "stream",
          "name": "stdout",
          "text": [
            "\u001b[K     |████████████████████████████████| 26.9 MB 43.1 MB/s \n",
            "\u001b[?25henv: MUJOCO_GL=egl\n"
          ]
        }
      ]
    },
    {
      "cell_type": "code",
      "source": [
        "#@title Setup\n",
        "\n",
        "import numpy as np\n",
        "import torch\n",
        "import os\n",
        "import time\n",
        "from dm_control import suite\n",
        "\n",
        "import utils\n",
        "from logger import Logger\n",
        "from video import VideoRecorder\n",
        "\n",
        "from agent.agent import Agent\n",
        "from utils import FrameStackDMC\n",
        "\n",
        "\n",
        "seed = 1\n",
        "domain_name = \"ball_in_cup\"\n",
        "task_name = \"catch\"\n",
        "image_size = 16\n",
        "frame_stack = 2\n",
        "work_dir = '.'\n",
        "save_video = True\n",
        "\n",
        "replay_buffer_capacity = 1000\n",
        "batch_size = 2\n",
        "\n",
        "s_dim = 16\n",
        "a_dim = 2\n",
        "\n",
        "num_train_steps = 1000000\n",
        "max_episode_steps = 1000\n",
        "\n",
        "init_steps = 4\n",
        "\n",
        "save_model = True\n",
        "save_buffer = True\n",
        "\n",
        "num_eval_episodes = 10\n",
        "eval_frequency = 1000\n",
        "\n",
        "def evaluate(env, agent, video, num_episodes, L, step):\n",
        "    for i in range(num_episodes):\n",
        "        time_step = env.reset()\n",
        "        \n",
        "        obs = time_step.observation['pixels']\n",
        "\n",
        "        video.init(enabled=(i == 0))\n",
        "        done = False\n",
        "        episode_reward = 0\n",
        "        while not done: \n",
        "            with utils.eval_mode(agent):\n",
        "                action = agent.select_action(obs)\n",
        "                action = action.astype(np.float32)\n",
        "\n",
        "            time_step = env.step(action)\n",
        "\n",
        "            obs = time_step.observation['pixels']\n",
        "            reward = time_step.reward if not time_step.first() else 0.0\n",
        "            done = time_step.last()\n",
        "\n",
        "            video.record(env)\n",
        "            episode_reward += reward\n",
        "\n",
        "\n",
        "        video.save('%d.mp4' % step)\n",
        "        L.log('eval/episode_reward', episode_reward, step)\n",
        "    L.dump(step)\n",
        "\n",
        "utils.set_seed_everywhere(seed)\n",
        "\n",
        "env = suite.load(\n",
        "    domain_name=domain_name,\n",
        "    task_name=task_name,\n",
        "    task_kwargs={\"random\": seed})\n",
        "\n",
        "env = FrameStackDMC(env, n_frames=frame_stack,render_kwargs={\"camera_id\": 0, # front, fixed\n",
        "                                          \"height\": image_size,\n",
        "                                          \"width\":  image_size})\n",
        "action_spec = env.action_spec()\n",
        "action_shape = env.action_spec().shape\n",
        "observation_shape = env.observation_spec()['pixels'].shape\n",
        "\n",
        "utils.make_dir(work_dir)\n",
        "video_dir = utils.make_dir(os.path.join(work_dir, 'video'))\n",
        "model_dir = utils.make_dir(os.path.join(work_dir, 'model'))\n",
        "buffer_dir = utils.make_dir(os.path.join(work_dir, 'buffer'))\n",
        "\n",
        "video = VideoRecorder(video_dir if save_video else None)\n",
        "\n",
        "device = torch.device('cuda' if torch.cuda.is_available() else 'cpu')\n",
        "\n",
        "replay_buffer = utils.ReplayBuffer(\n",
        "    obs_shape=observation_shape,\n",
        "    action_shape=action_shape,\n",
        "    capacity=replay_buffer_capacity,\n",
        "    batch_size=batch_size,\n",
        "    device=device\n",
        ")\n",
        "\n",
        "agent = Agent(\n",
        "    obs_shape=observation_shape,\n",
        "    a_shape=action_shape,\n",
        "    s_dim = s_dim,\n",
        "    a_dim = a_dim,\n",
        "    device=device\n",
        ")\n",
        "\n",
        "L = Logger(work_dir, use_tb=False)\n",
        "\n",
        "episode, episode_reward, done = 0, 0, True\n",
        "start_time = time.time()"
      ],
      "metadata": {
        "cellView": "form",
        "id": "74-MR7F_vR02"
      },
      "execution_count": 9,
      "outputs": []
    },
    {
      "cell_type": "code",
      "source": [
        "#@title Train\n",
        "\n",
        "for step in range(num_train_steps): \n",
        "        if done:\n",
        "            if step > 0:\n",
        "                L.log('train/duration', time.time() - start_time, step)\n",
        "                start_time = time.time()\n",
        "                L.dump(step)\n",
        "\n",
        "            # evaluate agent periodically\n",
        "            if step > 0 and step % eval_frequency == 0:\n",
        "                L.log('eval/episode', episode, step)\n",
        "                evaluate(env, agent, video, num_eval_episodes, L, step)\n",
        "                if save_model:\n",
        "                    agent.save(model_dir, step)\n",
        "                if save_buffer:\n",
        "                    replay_buffer.save(buffer_dir)\n",
        "\n",
        "            L.log('train/episode_reward', episode_reward, step)\n",
        "            \n",
        "            \n",
        "            time_step = env.reset()\n",
        "\n",
        "            obs = time_step.observation['pixels']\n",
        "            done = False\n",
        "            \n",
        "            episode_reward = 0\n",
        "            episode_step = 0\n",
        "            episode += 1\n",
        "\n",
        "            L.log('train/episode', episode, step)\n",
        "\n",
        "        # sample action for data collection\n",
        "        if step < init_steps:\n",
        "            action = np.random.uniform(action_spec.minimum,\n",
        "                               action_spec.maximum,\n",
        "                               size=action_spec.shape)\n",
        "        else:\n",
        "            with utils.eval_mode(agent): \n",
        "                action = agent.sample_action(obs)\n",
        "\n",
        "        # run training update\n",
        "        if step >= init_steps:\n",
        "            num_updates = init_steps if step == init_steps else 1\n",
        "            for _ in range(num_updates):\n",
        "                agent.update(replay_buffer, step)\n",
        "        \n",
        "        time_step = env.step(action)\n",
        "        \n",
        "        next_obs = time_step.observation['pixels']\n",
        "        reward = time_step.reward if not time_step.first() else 0.0\n",
        "        # allow infinit bootstrap\n",
        "        done = time_step.last()\n",
        "        done_bool = 0 if episode_step + 1 == max_episode_steps else float(\n",
        "            done\n",
        "        )\n",
        "\n",
        "        episode_reward += reward\n",
        "        replay_buffer.add(obs, action, reward, next_obs, done_bool)\n",
        "    \n",
        "        obs = next_obs\n",
        "        episode_step += 1"
      ],
      "metadata": {
        "colab": {
          "base_uri": "https://localhost:8080/",
          "height": 432
        },
        "id": "AMMmFfAIvxx0",
        "outputId": "e4b0b360-44d8-4e96-bacc-547028604dca"
      },
      "execution_count": 10,
      "outputs": [
        {
          "output_type": "stream",
          "name": "stdout",
          "text": [
            "| train | E: 1 | S: 1000 | D: 21.0 s | R: 0.0000 | BR: 0.0000 | ALOSS: 0.0000 | CLOSS: 0.0000 | RLOSS: 0.0000\n",
            "| eval  | S: 1000 | ER: 0.0000\n",
            "| train | E: 2 | S: 2000 | D: 58.4 s | R: 0.0000 | BR: 0.0000 | ALOSS: 0.0000 | CLOSS: 0.0000 | RLOSS: 0.0000\n"
          ]
        },
        {
          "output_type": "error",
          "ename": "KeyboardInterrupt",
          "evalue": "ignored",
          "traceback": [
            "\u001b[0;31m---------------------------------------------------------------------------\u001b[0m",
            "\u001b[0;31mKeyboardInterrupt\u001b[0m                         Traceback (most recent call last)",
            "\u001b[0;32m<ipython-input-10-24508007d93b>\u001b[0m in \u001b[0;36m<module>\u001b[0;34m\u001b[0m\n\u001b[1;32m     11\u001b[0m             \u001b[0;32mif\u001b[0m \u001b[0mstep\u001b[0m \u001b[0;34m>\u001b[0m \u001b[0;36m0\u001b[0m \u001b[0;32mand\u001b[0m \u001b[0mstep\u001b[0m \u001b[0;34m%\u001b[0m \u001b[0meval_frequency\u001b[0m \u001b[0;34m==\u001b[0m \u001b[0;36m0\u001b[0m\u001b[0;34m:\u001b[0m\u001b[0;34m\u001b[0m\u001b[0;34m\u001b[0m\u001b[0m\n\u001b[1;32m     12\u001b[0m                 \u001b[0mL\u001b[0m\u001b[0;34m.\u001b[0m\u001b[0mlog\u001b[0m\u001b[0;34m(\u001b[0m\u001b[0;34m'eval/episode'\u001b[0m\u001b[0;34m,\u001b[0m \u001b[0mepisode\u001b[0m\u001b[0;34m,\u001b[0m \u001b[0mstep\u001b[0m\u001b[0;34m)\u001b[0m\u001b[0;34m\u001b[0m\u001b[0;34m\u001b[0m\u001b[0m\n\u001b[0;32m---> 13\u001b[0;31m                 \u001b[0mevaluate\u001b[0m\u001b[0;34m(\u001b[0m\u001b[0menv\u001b[0m\u001b[0;34m,\u001b[0m \u001b[0magent\u001b[0m\u001b[0;34m,\u001b[0m \u001b[0mvideo\u001b[0m\u001b[0;34m,\u001b[0m \u001b[0mnum_eval_episodes\u001b[0m\u001b[0;34m,\u001b[0m \u001b[0mL\u001b[0m\u001b[0;34m,\u001b[0m \u001b[0mstep\u001b[0m\u001b[0;34m)\u001b[0m\u001b[0;34m\u001b[0m\u001b[0;34m\u001b[0m\u001b[0m\n\u001b[0m\u001b[1;32m     14\u001b[0m                 \u001b[0;32mif\u001b[0m \u001b[0msave_model\u001b[0m\u001b[0;34m:\u001b[0m\u001b[0;34m\u001b[0m\u001b[0;34m\u001b[0m\u001b[0m\n\u001b[1;32m     15\u001b[0m                     \u001b[0magent\u001b[0m\u001b[0;34m.\u001b[0m\u001b[0msave\u001b[0m\u001b[0;34m(\u001b[0m\u001b[0mmodel_dir\u001b[0m\u001b[0;34m,\u001b[0m \u001b[0mstep\u001b[0m\u001b[0;34m)\u001b[0m\u001b[0;34m\u001b[0m\u001b[0;34m\u001b[0m\u001b[0m\n",
            "\u001b[0;32m<ipython-input-9-934181ab433a>\u001b[0m in \u001b[0;36mevaluate\u001b[0;34m(env, agent, video, num_episodes, L, step)\u001b[0m\n\u001b[1;32m     54\u001b[0m                 \u001b[0maction\u001b[0m \u001b[0;34m=\u001b[0m \u001b[0maction\u001b[0m\u001b[0;34m.\u001b[0m\u001b[0mastype\u001b[0m\u001b[0;34m(\u001b[0m\u001b[0mnp\u001b[0m\u001b[0;34m.\u001b[0m\u001b[0mfloat32\u001b[0m\u001b[0;34m)\u001b[0m\u001b[0;34m\u001b[0m\u001b[0;34m\u001b[0m\u001b[0m\n\u001b[1;32m     55\u001b[0m \u001b[0;34m\u001b[0m\u001b[0m\n\u001b[0;32m---> 56\u001b[0;31m             \u001b[0mtime_step\u001b[0m \u001b[0;34m=\u001b[0m \u001b[0menv\u001b[0m\u001b[0;34m.\u001b[0m\u001b[0mstep\u001b[0m\u001b[0;34m(\u001b[0m\u001b[0maction\u001b[0m\u001b[0;34m)\u001b[0m\u001b[0;34m\u001b[0m\u001b[0;34m\u001b[0m\u001b[0m\n\u001b[0m\u001b[1;32m     57\u001b[0m \u001b[0;34m\u001b[0m\u001b[0m\n\u001b[1;32m     58\u001b[0m             \u001b[0mobs\u001b[0m \u001b[0;34m=\u001b[0m \u001b[0mtime_step\u001b[0m\u001b[0;34m.\u001b[0m\u001b[0mobservation\u001b[0m\u001b[0;34m[\u001b[0m\u001b[0;34m'pixels'\u001b[0m\u001b[0;34m]\u001b[0m\u001b[0;34m\u001b[0m\u001b[0;34m\u001b[0m\u001b[0m\n",
            "\u001b[0;32m/usr/local/lib/python3.8/dist-packages/dm_control/suite/wrappers/pixels.py\u001b[0m in \u001b[0;36mstep\u001b[0;34m(self, action)\u001b[0m\n\u001b[1;32m     91\u001b[0m   \u001b[0;32mdef\u001b[0m \u001b[0mstep\u001b[0m\u001b[0;34m(\u001b[0m\u001b[0mself\u001b[0m\u001b[0;34m,\u001b[0m \u001b[0maction\u001b[0m\u001b[0;34m)\u001b[0m\u001b[0;34m:\u001b[0m\u001b[0;34m\u001b[0m\u001b[0;34m\u001b[0m\u001b[0m\n\u001b[1;32m     92\u001b[0m     \u001b[0mtime_step\u001b[0m \u001b[0;34m=\u001b[0m \u001b[0mself\u001b[0m\u001b[0;34m.\u001b[0m\u001b[0m_env\u001b[0m\u001b[0;34m.\u001b[0m\u001b[0mstep\u001b[0m\u001b[0;34m(\u001b[0m\u001b[0maction\u001b[0m\u001b[0;34m)\u001b[0m\u001b[0;34m\u001b[0m\u001b[0;34m\u001b[0m\u001b[0m\n\u001b[0;32m---> 93\u001b[0;31m     \u001b[0;32mreturn\u001b[0m \u001b[0mself\u001b[0m\u001b[0;34m.\u001b[0m\u001b[0m_add_pixel_observation\u001b[0m\u001b[0;34m(\u001b[0m\u001b[0mtime_step\u001b[0m\u001b[0;34m)\u001b[0m\u001b[0;34m\u001b[0m\u001b[0;34m\u001b[0m\u001b[0m\n\u001b[0m\u001b[1;32m     94\u001b[0m \u001b[0;34m\u001b[0m\u001b[0m\n\u001b[1;32m     95\u001b[0m   \u001b[0;32mdef\u001b[0m \u001b[0mobservation_spec\u001b[0m\u001b[0;34m(\u001b[0m\u001b[0mself\u001b[0m\u001b[0;34m)\u001b[0m\u001b[0;34m:\u001b[0m\u001b[0;34m\u001b[0m\u001b[0;34m\u001b[0m\u001b[0m\n",
            "\u001b[0;32m/content/drive/MyDrive/RL_project/utils.py\u001b[0m in \u001b[0;36m_add_pixel_observation\u001b[0;34m(self, time_step, reset)\u001b[0m\n\u001b[1;32m    212\u001b[0m         \u001b[0mobservation\u001b[0m \u001b[0;34m=\u001b[0m \u001b[0mOrderedDict\u001b[0m\u001b[0;34m(\u001b[0m\u001b[0;34m)\u001b[0m\u001b[0;34m\u001b[0m\u001b[0;34m\u001b[0m\u001b[0m\n\u001b[1;32m    213\u001b[0m \u001b[0;34m\u001b[0m\u001b[0m\n\u001b[0;32m--> 214\u001b[0;31m         \u001b[0mpixels\u001b[0m \u001b[0;34m=\u001b[0m \u001b[0mself\u001b[0m\u001b[0;34m.\u001b[0m\u001b[0m_env\u001b[0m\u001b[0;34m.\u001b[0m\u001b[0mphysics\u001b[0m\u001b[0;34m.\u001b[0m\u001b[0mrender\u001b[0m\u001b[0;34m(\u001b[0m\u001b[0;34m**\u001b[0m\u001b[0mself\u001b[0m\u001b[0;34m.\u001b[0m\u001b[0m_render_kwargs\u001b[0m\u001b[0;34m)\u001b[0m\u001b[0;34m.\u001b[0m\u001b[0mtranspose\u001b[0m\u001b[0;34m(\u001b[0m\u001b[0;36m2\u001b[0m\u001b[0;34m,\u001b[0m\u001b[0;36m0\u001b[0m\u001b[0;34m,\u001b[0m\u001b[0;36m1\u001b[0m\u001b[0;34m)\u001b[0m\u001b[0;34m\u001b[0m\u001b[0;34m\u001b[0m\u001b[0m\n\u001b[0m\u001b[1;32m    215\u001b[0m \u001b[0;34m\u001b[0m\u001b[0m\n\u001b[1;32m    216\u001b[0m         \u001b[0;32mif\u001b[0m \u001b[0mreset\u001b[0m\u001b[0;34m:\u001b[0m\u001b[0;34m\u001b[0m\u001b[0;34m\u001b[0m\u001b[0m\n",
            "\u001b[0;32m/usr/local/lib/python3.8/dist-packages/dm_control/mujoco/engine.py\u001b[0m in \u001b[0;36mrender\u001b[0;34m(self, height, width, camera_id, overlays, depth, segmentation, scene_option, render_flag_overrides, scene_callback)\u001b[0m\n\u001b[1;32m    214\u001b[0m       \u001b[0mThe\u001b[0m \u001b[0mrendered\u001b[0m \u001b[0mRGB\u001b[0m\u001b[0;34m,\u001b[0m \u001b[0mdepth\u001b[0m \u001b[0;32mor\u001b[0m \u001b[0msegmentation\u001b[0m \u001b[0mimage\u001b[0m\u001b[0;34m.\u001b[0m\u001b[0;34m\u001b[0m\u001b[0;34m\u001b[0m\u001b[0m\n\u001b[1;32m    215\u001b[0m     \"\"\"\n\u001b[0;32m--> 216\u001b[0;31m     camera = Camera(\n\u001b[0m\u001b[1;32m    217\u001b[0m         \u001b[0mphysics\u001b[0m\u001b[0;34m=\u001b[0m\u001b[0mself\u001b[0m\u001b[0;34m,\u001b[0m\u001b[0;34m\u001b[0m\u001b[0;34m\u001b[0m\u001b[0m\n\u001b[1;32m    218\u001b[0m         \u001b[0mheight\u001b[0m\u001b[0;34m=\u001b[0m\u001b[0mheight\u001b[0m\u001b[0;34m,\u001b[0m\u001b[0;34m\u001b[0m\u001b[0;34m\u001b[0m\u001b[0m\n",
            "\u001b[0;32m/usr/local/lib/python3.8/dist-packages/dm_control/mujoco/engine.py\u001b[0m in \u001b[0;36m__init__\u001b[0;34m(self, physics, height, width, camera_id, max_geom, scene_callback)\u001b[0m\n\u001b[1;32m    669\u001b[0m \u001b[0;34m\u001b[0m\u001b[0m\n\u001b[1;32m    670\u001b[0m     \u001b[0;31m# Variables corresponding to structs needed by Mujoco's rendering functions.\u001b[0m\u001b[0;34m\u001b[0m\u001b[0;34m\u001b[0m\u001b[0;34m\u001b[0m\u001b[0m\n\u001b[0;32m--> 671\u001b[0;31m     \u001b[0mself\u001b[0m\u001b[0;34m.\u001b[0m\u001b[0m_scene\u001b[0m \u001b[0;34m=\u001b[0m \u001b[0mwrapper\u001b[0m\u001b[0;34m.\u001b[0m\u001b[0mMjvScene\u001b[0m\u001b[0;34m(\u001b[0m\u001b[0mmodel\u001b[0m\u001b[0;34m=\u001b[0m\u001b[0mphysics\u001b[0m\u001b[0;34m.\u001b[0m\u001b[0mmodel\u001b[0m\u001b[0;34m,\u001b[0m \u001b[0mmax_geom\u001b[0m\u001b[0;34m=\u001b[0m\u001b[0mmax_geom\u001b[0m\u001b[0;34m)\u001b[0m\u001b[0;34m\u001b[0m\u001b[0;34m\u001b[0m\u001b[0m\n\u001b[0m\u001b[1;32m    672\u001b[0m     \u001b[0mself\u001b[0m\u001b[0;34m.\u001b[0m\u001b[0m_scene_option\u001b[0m \u001b[0;34m=\u001b[0m \u001b[0mwrapper\u001b[0m\u001b[0;34m.\u001b[0m\u001b[0mMjvOption\u001b[0m\u001b[0;34m(\u001b[0m\u001b[0;34m)\u001b[0m\u001b[0;34m\u001b[0m\u001b[0;34m\u001b[0m\u001b[0m\n\u001b[1;32m    673\u001b[0m \u001b[0;34m\u001b[0m\u001b[0m\n",
            "\u001b[0;32m/usr/local/lib/python3.8/dist-packages/dm_control/mujoco/wrapper/core.py\u001b[0m in \u001b[0;36m__init__\u001b[0;34m(self, model, max_geom)\u001b[0m\n\u001b[1;32m    684\u001b[0m         \u001b[0mmax_geom\u001b[0m \u001b[0;34m=\u001b[0m \u001b[0mmax\u001b[0m\u001b[0;34m(\u001b[0m\u001b[0;36m1000\u001b[0m\u001b[0;34m,\u001b[0m \u001b[0mmax_renderable_geoms\u001b[0m\u001b[0;34m)\u001b[0m\u001b[0;34m\u001b[0m\u001b[0;34m\u001b[0m\u001b[0m\n\u001b[1;32m    685\u001b[0m \u001b[0;34m\u001b[0m\u001b[0m\n\u001b[0;32m--> 686\u001b[0;31m       \u001b[0msuper\u001b[0m\u001b[0;34m(\u001b[0m\u001b[0;34m)\u001b[0m\u001b[0;34m.\u001b[0m\u001b[0m__init__\u001b[0m\u001b[0;34m(\u001b[0m\u001b[0mmodel\u001b[0m\u001b[0;34m.\u001b[0m\u001b[0mptr\u001b[0m\u001b[0;34m,\u001b[0m \u001b[0mmax_geom\u001b[0m\u001b[0;34m)\u001b[0m\u001b[0;34m\u001b[0m\u001b[0;34m\u001b[0m\u001b[0m\n\u001b[0m\u001b[1;32m    687\u001b[0m \u001b[0;34m\u001b[0m\u001b[0m\n\u001b[1;32m    688\u001b[0m   \u001b[0;34m@\u001b[0m\u001b[0mproperty\u001b[0m\u001b[0;34m\u001b[0m\u001b[0;34m\u001b[0m\u001b[0m\n",
            "\u001b[0;31mKeyboardInterrupt\u001b[0m: "
          ]
        }
      ]
    }
  ],
  "metadata": {
    "colab": {
      "provenance": []
    },
    "gpuClass": "standard",
    "kernelspec": {
      "display_name": "Python 3",
      "name": "python3"
    },
    "language_info": {
      "name": "python"
    },
    "accelerator": "GPU"
  },
  "nbformat": 4,
  "nbformat_minor": 0
}